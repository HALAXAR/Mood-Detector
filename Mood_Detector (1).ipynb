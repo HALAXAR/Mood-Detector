{
  "cells": [
    {
      "cell_type": "markdown",
      "id": "cf0a47a8",
      "metadata": {
        "id": "cf0a47a8"
      },
      "source": [
        "# Importing Necessary Libraries"
      ]
    },
    {
      "cell_type": "code",
      "execution_count": 21,
      "id": "iikj-PlLrb3N",
      "metadata": {
        "colab": {
          "base_uri": "https://localhost:8080/"
        },
        "id": "iikj-PlLrb3N",
        "outputId": "12187cd5-ea17-4b8b-fb55-df6432ab089e"
      },
      "outputs": [
        {
          "output_type": "stream",
          "name": "stdout",
          "text": [
            "Requirement already satisfied: opendatasets in /usr/local/lib/python3.10/dist-packages (0.1.22)\n",
            "Requirement already satisfied: tqdm in /usr/local/lib/python3.10/dist-packages (from opendatasets) (4.66.4)\n",
            "Requirement already satisfied: kaggle in /usr/local/lib/python3.10/dist-packages (from opendatasets) (1.6.14)\n",
            "Requirement already satisfied: click in /usr/local/lib/python3.10/dist-packages (from opendatasets) (8.1.7)\n",
            "Requirement already satisfied: six>=1.10 in /usr/local/lib/python3.10/dist-packages (from kaggle->opendatasets) (1.16.0)\n",
            "Requirement already satisfied: certifi>=2023.7.22 in /usr/local/lib/python3.10/dist-packages (from kaggle->opendatasets) (2024.7.4)\n",
            "Requirement already satisfied: python-dateutil in /usr/local/lib/python3.10/dist-packages (from kaggle->opendatasets) (2.8.2)\n",
            "Requirement already satisfied: requests in /usr/local/lib/python3.10/dist-packages (from kaggle->opendatasets) (2.31.0)\n",
            "Requirement already satisfied: python-slugify in /usr/local/lib/python3.10/dist-packages (from kaggle->opendatasets) (8.0.4)\n",
            "Requirement already satisfied: urllib3 in /usr/local/lib/python3.10/dist-packages (from kaggle->opendatasets) (2.0.7)\n",
            "Requirement already satisfied: bleach in /usr/local/lib/python3.10/dist-packages (from kaggle->opendatasets) (6.1.0)\n",
            "Requirement already satisfied: webencodings in /usr/local/lib/python3.10/dist-packages (from bleach->kaggle->opendatasets) (0.5.1)\n",
            "Requirement already satisfied: text-unidecode>=1.3 in /usr/local/lib/python3.10/dist-packages (from python-slugify->kaggle->opendatasets) (1.3)\n",
            "Requirement already satisfied: charset-normalizer<4,>=2 in /usr/local/lib/python3.10/dist-packages (from requests->kaggle->opendatasets) (3.3.2)\n",
            "Requirement already satisfied: idna<4,>=2.5 in /usr/local/lib/python3.10/dist-packages (from requests->kaggle->opendatasets) (3.7)\n"
          ]
        }
      ],
      "source": [
        "!pip install opendatasets"
      ]
    },
    {
      "cell_type": "code",
      "execution_count": 22,
      "id": "IXyb-KjSrd38",
      "metadata": {
        "colab": {
          "base_uri": "https://localhost:8080/"
        },
        "id": "IXyb-KjSrd38",
        "outputId": "ba405b7a-5476-466b-9ae5-190cf20c0b24"
      },
      "outputs": [
        {
          "output_type": "stream",
          "name": "stdout",
          "text": [
            "Requirement already satisfied: torchinfo in /usr/local/lib/python3.10/dist-packages (1.8.0)\n"
          ]
        }
      ],
      "source": [
        "!pip install torchinfo"
      ]
    },
    {
      "cell_type": "code",
      "execution_count": 23,
      "id": "36a44bff",
      "metadata": {
        "id": "36a44bff"
      },
      "outputs": [],
      "source": [
        "import torch\n",
        "from torch import nn, optim\n",
        "from collections import OrderedDict\n",
        "import numpy as np\n",
        "import matplotlib.pyplot as plt\n",
        "from mlxtend.plotting import plot_decision_regions\n",
        "from sklearn.model_selection import train_test_split\n",
        "import seaborn as sns\n",
        "from torchinfo import summary\n",
        "import pandas as pd\n",
        "import torch\n",
        "from torchvision import datasets\n",
        "import os\n",
        "from torch.utils.data import Dataset, DataLoader\n",
        "# from tqdm.notebook import tqdm_notebook\n",
        "from sklearn.metrics import confusion_matrix, accuracy_score\n",
        "from torchvision import models, transforms, utils\n",
        "import os\n",
        "from zipfile import ZipFile\n",
        "import opendatasets as od\n",
        "from pathlib import Path"
      ]
    },
    {
      "cell_type": "markdown",
      "id": "4aff1d93",
      "metadata": {
        "id": "4aff1d93"
      },
      "source": [
        "# Setup device agnostic code"
      ]
    },
    {
      "cell_type": "code",
      "execution_count": 24,
      "id": "52c3ee02",
      "metadata": {
        "colab": {
          "base_uri": "https://localhost:8080/",
          "height": 36
        },
        "id": "52c3ee02",
        "outputId": "c5f057d3-039f-41a4-e403-055108bb9f8a"
      },
      "outputs": [
        {
          "output_type": "execute_result",
          "data": {
            "text/plain": [
              "'cuda'"
            ],
            "application/vnd.google.colaboratory.intrinsic+json": {
              "type": "string"
            }
          },
          "metadata": {},
          "execution_count": 24
        }
      ],
      "source": [
        "device = 'cuda' if torch.cuda.is_available() else 'cpu'\n",
        "device"
      ]
    },
    {
      "cell_type": "markdown",
      "id": "4448a8d3",
      "metadata": {
        "id": "4448a8d3"
      },
      "source": [
        "# Getting the dataset"
      ]
    },
    {
      "cell_type": "code",
      "execution_count": 25,
      "id": "9db638a0",
      "metadata": {
        "colab": {
          "base_uri": "https://localhost:8080/"
        },
        "id": "9db638a0",
        "outputId": "0ca08d2f-0027-4ffb-c0b6-6ae768d6208f"
      },
      "outputs": [
        {
          "output_type": "stream",
          "name": "stdout",
          "text": [
            "Downloading the dataset\n",
            "Skipping, found downloaded files in \"./mood-image-dataset\" (use force=True to force download)\n"
          ]
        }
      ],
      "source": [
        "if Path(\".\\\\mood-image-dataset\").is_dir():\n",
        "    print(\"The dataset already exists. Skipping download....\")\n",
        "else:\n",
        "    print(\"Downloading the dataset\")\n",
        "    od.download(\"https://www.kaggle.com/datasets/lavishalakhmani/mood-image-dataset?select=images\")"
      ]
    },
    {
      "cell_type": "code",
      "execution_count": 26,
      "id": "cc3be682",
      "metadata": {
        "id": "cc3be682"
      },
      "outputs": [],
      "source": [
        "train_dir = Path(\".\\\\mood-image-dataset\\\\images\\\\train\")\n",
        "test_dir = Path(\".\\\\mood-image-dataset\\\\images\\\\validation\")"
      ]
    },
    {
      "cell_type": "markdown",
      "id": "c8bdca02",
      "metadata": {
        "id": "c8bdca02"
      },
      "source": [
        "# Preprocessing the dataset"
      ]
    },
    {
      "cell_type": "code",
      "execution_count": 27,
      "id": "b72473c5",
      "metadata": {
        "id": "b72473c5"
      },
      "outputs": [],
      "source": [
        "transform = transforms.Compose([\n",
        "    transforms.Resize((256,256)),\n",
        "    transforms.RandomHorizontalFlip(),\n",
        "    transforms.RandomRotation(degrees=15),\n",
        "    transforms.ToTensor(),\n",
        "    transforms.Normalize(mean=[0.5, 0.5, 0.5], std=[0.5, 0.5, 0.5])\n",
        "])"
      ]
    },
    {
      "cell_type": "code",
      "execution_count": 28,
      "id": "ab740ae3",
      "metadata": {
        "colab": {
          "base_uri": "https://localhost:8080/"
        },
        "id": "ab740ae3",
        "outputId": "cccf41f9-4c29-440f-c250-6847425097fb"
      },
      "outputs": [
        {
          "output_type": "stream",
          "name": "stdout",
          "text": [
            "Length of train dataset = 26921\n",
            "Length of test dataset = 7066\n",
            "Shape of image: torch.Size([3, 256, 256])\n"
          ]
        }
      ],
      "source": [
        "train_data = datasets.ImageFolder(root=\"/content/mood-image-dataset/images/train\",transform=transform)\n",
        "test_data = datasets.ImageFolder(root=\"/content/mood-image-dataset/images/validation\",transform=transform)\n",
        "print(f\"Length of train dataset = {len(train_data)}\")\n",
        "print(f\"Length of test dataset = {len(test_data)}\")\n",
        "img,label=train_data[0]\n",
        "print(f\"Shape of image: {img.shape}\")"
      ]
    },
    {
      "cell_type": "code",
      "execution_count": 29,
      "id": "383ba98c",
      "metadata": {
        "colab": {
          "base_uri": "https://localhost:8080/"
        },
        "id": "383ba98c",
        "outputId": "943d88b6-078c-4a47-a920-5d129f9116de"
      },
      "outputs": [
        {
          "output_type": "execute_result",
          "data": {
            "text/plain": [
              "['angry', 'disgust', 'fear', 'happy', 'neutral', 'sad', 'surprise']"
            ]
          },
          "metadata": {},
          "execution_count": 29
        }
      ],
      "source": [
        "class_labels = train_data.classes\n",
        "class_labels"
      ]
    },
    {
      "cell_type": "markdown",
      "id": "8f11478a",
      "metadata": {
        "id": "8f11478a"
      },
      "source": [
        "# Preparing Dataloaders"
      ]
    },
    {
      "cell_type": "code",
      "execution_count": 10,
      "id": "2fe5d499",
      "metadata": {
        "colab": {
          "base_uri": "https://localhost:8080/"
        },
        "id": "2fe5d499",
        "outputId": "d832f930-be7e-4034-e727-521e865eb064"
      },
      "outputs": [
        {
          "output_type": "execute_result",
          "data": {
            "text/plain": [
              "(<torch.utils.data.dataloader.DataLoader at 0x7b22a22c30d0>,\n",
              " <torch.utils.data.dataloader.DataLoader at 0x7b22a22c3880>)"
            ]
          },
          "metadata": {},
          "execution_count": 10
        }
      ],
      "source": [
        "BATCH_SIZE = 64\n",
        "\n",
        "train_dataloader=DataLoader(dataset=train_data,\n",
        "                           batch_size=BATCH_SIZE,\n",
        "                           shuffle=True)\n",
        "\n",
        "test_dataloader = DataLoader(dataset=test_data,\n",
        "                            batch_size=BATCH_SIZE,\n",
        "                            shuffle=False)\n",
        "train_dataloader,test_dataloader"
      ]
    },
    {
      "cell_type": "code",
      "execution_count": 11,
      "id": "a906d727",
      "metadata": {
        "colab": {
          "base_uri": "https://localhost:8080/"
        },
        "id": "a906d727",
        "outputId": "7d044cea-0175-4947-81a8-5c67f67fd142"
      },
      "outputs": [
        {
          "output_type": "stream",
          "name": "stdout",
          "text": [
            "Length of training dataloader: 421 batches of 64\n",
            "Length of testing dataloader: 111 batches of 64\n"
          ]
        }
      ],
      "source": [
        "print(f\"Length of training dataloader: {len(train_dataloader)} batches of {BATCH_SIZE}\")\n",
        "print(f\"Length of testing dataloader: {len(test_dataloader)} batches of {BATCH_SIZE}\")"
      ]
    },
    {
      "cell_type": "markdown",
      "id": "c530fb20",
      "metadata": {
        "id": "c530fb20"
      },
      "source": [
        "# Visulalizing Images from the dataset"
      ]
    },
    {
      "cell_type": "code",
      "execution_count": 13,
      "id": "4d69048f",
      "metadata": {
        "colab": {
          "base_uri": "https://localhost:8080/"
        },
        "id": "4d69048f",
        "outputId": "ba6d356e-3905-4e20-bce9-5ed57e3e95aa"
      },
      "outputs": [
        {
          "output_type": "stream",
          "name": "stdout",
          "text": [
            "torch.Size([64, 3, 256, 256])\n",
            "torch.Size([64])\n"
          ]
        }
      ],
      "source": [
        "example_img,example_label=next(iter(train_dataloader))\n",
        "print(example_img.shape)\n",
        "print(example_label.shape)"
      ]
    },
    {
      "cell_type": "code",
      "execution_count": 14,
      "id": "2a4f74fa",
      "metadata": {
        "colab": {
          "base_uri": "https://localhost:8080/",
          "height": 445
        },
        "id": "2a4f74fa",
        "outputId": "50eeaed6-6a5f-49b2-c29a-347d4a903658"
      },
      "outputs": [
        {
          "output_type": "stream",
          "name": "stderr",
          "text": [
            "WARNING:matplotlib.image:Clipping input data to the valid range for imshow with RGB data ([0..1] for floats or [0..255] for integers).\n"
          ]
        },
        {
          "output_type": "display_data",
          "data": {
            "text/plain": [
              "<Figure size 640x480 with 1 Axes>"
            ],
            "image/png": "[encoded data removed]"
          },
          "metadata": {}
        }
      ],
      "source": [
        "random_idx = torch.randint(0,len(example_label),size=[1]).item()\n",
        "img,label=example_img[random_idx],example_label[random_idx]\n",
        "# img=img.permute(1,2,0)\n",
        "plt.imshow(img.permute(1,2,0))\n",
        "plt.title(class_labels[label])\n",
        "plt.axis(False)\n",
        "plt.show()"
      ]
    },
    {
      "cell_type": "markdown",
      "id": "91213161",
      "metadata": {
        "id": "91213161"
      },
      "source": [
        "# Building the Model"
      ]
    },
    {
      "cell_type": "code",
      "execution_count": 31,
      "id": "b47913ce",
      "metadata": {
        "id": "b47913ce"
      },
      "outputs": [],
      "source": [
        "torch.manual_seed(3407)\n",
        "model = nn.Sequential(OrderedDict([('Conv1', nn.Conv2d(3,32,kernel_size=(3,3),padding=(1,1))),\n",
        "                                    ('Conv2', nn.Conv2d(32,64,kernel_size=(3,3),padding=(1,1))),\n",
        "                                    ('ReLU1', nn.ReLU()),\n",
        "                                    ('MaxPool1',nn.MaxPool2d(kernel_size=(3,3),padding=(1,1))),\n",
        "                                    ('Conv3',nn.Conv2d(64,64,kernel_size=(3,3),padding=(1,1))),\n",
        "                                    ('Conv4',nn.Conv2d(64,64,kernel_size=(3,3),padding=(1,1))),\n",
        "                                    ('ReLU2',nn.ReLU()),\n",
        "                                    ('MaxPool2',nn.MaxPool2d(kernel_size=(3,3),padding=(1,1))),\n",
        "                                    ('Conv5',nn.Conv2d(64,64,kernel_size=(3,3),padding=(1,1))),\n",
        "                                    ('Conv6',nn.Conv2d(64,128,kernel_size=(3,3),padding=(1,1))),\n",
        "                                    ('ReLU3',nn.ReLU()),\n",
        "                                    ('MaxPool3',nn.MaxPool2d(kernel_size=(3,3),padding=(1,1))),\n",
        "                                    ('Flatten',nn.Flatten()),\n",
        "                                    ('Layer1',nn.Linear(12800,128)),\n",
        "                                    ('ReLU3',nn.ReLU()),\n",
        "                                    ('Layer2',nn.Linear(128,64)),\n",
        "                                    ('ReLU4',nn.ReLU()),\n",
        "                                    ('Layer3',nn.Linear(64,7))\n",
        "                                   ])).to(device)\n"
      ]
    },
    {
      "cell_type": "code",
      "execution_count": 16,
      "id": "HdckoMW-mQH-",
      "metadata": {
        "colab": {
          "base_uri": "https://localhost:8080/"
        },
        "id": "HdckoMW-mQH-",
        "outputId": "4cfd3a50-3f68-4e03-d8b3-6c8b94c64104"
      },
      "outputs": [
        {
          "output_type": "execute_result",
          "data": {
            "text/plain": [
              "==========================================================================================\n",
              "Layer (type:depth-idx)                   Output Shape              Param #\n",
              "==========================================================================================\n",
              "Sequential                               [1, 7]                    --\n",
              "├─Conv2d: 1-1                            [1, 32, 256, 256]         896\n",
              "├─Conv2d: 1-2                            [1, 64, 256, 256]         18,496\n",
              "├─ReLU: 1-3                              [1, 64, 256, 256]         --\n",
              "├─MaxPool2d: 1-4                         [1, 64, 86, 86]           --\n",
              "├─Conv2d: 1-5                            [1, 64, 86, 86]           36,928\n",
              "├─Conv2d: 1-6                            [1, 64, 86, 86]           36,928\n",
              "├─ReLU: 1-7                              [1, 64, 86, 86]           --\n",
              "├─MaxPool2d: 1-8                         [1, 64, 29, 29]           --\n",
              "├─Conv2d: 1-9                            [1, 64, 29, 29]           36,928\n",
              "├─Conv2d: 1-10                           [1, 128, 29, 29]          73,856\n",
              "├─ReLU: 1-11                             [1, 128, 29, 29]          --\n",
              "├─MaxPool2d: 1-12                        [1, 128, 10, 10]          --\n",
              "├─Flatten: 1-13                          [1, 12800]                --\n",
              "├─Linear: 1-14                           [1, 128]                  1,638,528\n",
              "├─Linear: 1-15                           [1, 64]                   8,256\n",
              "├─ReLU: 1-16                             [1, 64]                   --\n",
              "├─Linear: 1-17                           [1, 7]                    455\n",
              "==========================================================================================\n",
              "Total params: 1,851,271\n",
              "Trainable params: 1,851,271\n",
              "Non-trainable params: 0\n",
              "Total mult-adds (G): 1.91\n",
              "==========================================================================================\n",
              "Input size (MB): 0.79\n",
              "Forward/backward pass size (MB): 59.20\n",
              "Params size (MB): 7.41\n",
              "Estimated Total Size (MB): 67.39\n",
              "=========================================================================================="
            ]
          },
          "metadata": {},
          "execution_count": 16
        }
      ],
      "source": [
        "summary(model, input_size=(1,3,256,256))"
      ]
    },
    {
      "cell_type": "markdown",
      "id": "aa1f987b",
      "metadata": {
        "id": "aa1f987b"
      },
      "source": [
        "# Setting up loss Function and Optimizer"
      ]
    },
    {
      "cell_type": "code",
      "execution_count": 32,
      "id": "bc2458d0",
      "metadata": {
        "id": "bc2458d0"
      },
      "outputs": [],
      "source": [
        "loss_fn = nn.CrossEntropyLoss()\n",
        "optimizer = torch.optim.Adam(params=model.parameters(),lr=0.001)"
      ]
    },
    {
      "cell_type": "code",
      "source": [],
      "metadata": {
        "id": "6UzISOu7Le7h"
      },
      "id": "6UzISOu7Le7h",
      "execution_count": null,
      "outputs": []
    },
    {
      "cell_type": "markdown",
      "source": [
        "## Early Stopping"
      ],
      "metadata": {
        "id": "OUyi82CBLfhJ"
      },
      "id": "OUyi82CBLfhJ"
    },
    {
      "cell_type": "code",
      "execution_count": 33,
      "id": "GsqNmb9ZoOeo",
      "metadata": {
        "id": "GsqNmb9ZoOeo"
      },
      "outputs": [],
      "source": [
        "class EarlyStopping:\n",
        "    def __init__(self, patience=5, delta=0, restore_best_weights=True, path='checkpoint.pt', verbose=False):\n",
        "        self.patience = patience\n",
        "        self.delta = delta\n",
        "        self.verbose = verbose\n",
        "        self.restore_best_weights = restore_best_weights\n",
        "        self.best_loss = None\n",
        "        self.counter = 0\n",
        "        self.path = path\n",
        "        self.early_stop = False\n",
        "\n",
        "    def __call__(self, val_loss, model):\n",
        "        loss = val_loss\n",
        "\n",
        "        if self.best_loss is None:\n",
        "            self.best_loss = loss\n",
        "            torch.save(model.state_dict(), self.path)\n",
        "            # print(\"saved model1\")\n",
        "        elif loss - self.best_loss >=  self.delta:\n",
        "            self.counter += 1\n",
        "            if self.verbose:\n",
        "                print(f'EarlyStopping counter: {self.counter} out of {self.patience}')\n",
        "            if self.counter >= self.patience:\n",
        "                self.early_stop = True\n",
        "        else:\n",
        "            self.best_loss = loss\n",
        "            if self.restore_best_weights:\n",
        "                torch.save(model.state_dict(), self.path)\n",
        "\n",
        "            self.counter = 0"
      ]
    },
    {
      "cell_type": "code",
      "source": [],
      "metadata": {
        "id": "14SyONjcLaR9"
      },
      "id": "14SyONjcLaR9",
      "execution_count": null,
      "outputs": []
    },
    {
      "cell_type": "markdown",
      "source": [
        "## training loop"
      ],
      "metadata": {
        "id": "PVQAHszKLa9P"
      },
      "id": "PVQAHszKLa9P"
    },
    {
      "cell_type": "code",
      "execution_count": 34,
      "id": "N79J0wjIoJ4Z",
      "metadata": {
        "colab": {
          "base_uri": "https://localhost:8080/"
        },
        "id": "N79J0wjIoJ4Z",
        "outputId": "e8b03ce4-6526-4110-bb9a-35260352ce4a"
      },
      "outputs": [
        {
          "output_type": "stream",
          "name": "stdout",
          "text": [
            "Epoch [1/8]| Train Loss: 1.7159| Train Accuracy: 30.34%| Test loss: 1.6374| Test Accuracy: 37.08%\n",
            "Epoch [2/8]| Train Loss: 1.5271| Train Accuracy: 40.80%| Test loss: 1.5177| Test Accuracy: 39.99%\n",
            "Epoch [3/8]| Train Loss: 1.4171| Train Accuracy: 44.74%| Test loss: 1.3895| Test Accuracy: 46.80%\n",
            "Epoch [4/8]| Train Loss: 1.3442| Train Accuracy: 48.16%| Test loss: 1.3569| Test Accuracy: 47.48%\n",
            "Epoch [5/8]| Train Loss: 1.2850| Train Accuracy: 50.45%| Test loss: 1.3071| Test Accuracy: 50.28%\n",
            "Epoch [6/8]| Train Loss: 1.2378| Train Accuracy: 52.57%| Test loss: 1.2669| Test Accuracy: 52.18%\n",
            "Epoch [7/8]| Train Loss: 1.2061| Train Accuracy: 53.66%| Test loss: 1.2611| Test Accuracy: 53.50%\n",
            "Epoch [8/8]| Train Loss: 1.1678| Train Accuracy: 54.96%| Test loss: 1.2361| Test Accuracy: 53.59%\n",
            "CPU times: user 28min 13s, sys: 2min 39s, total: 30min 53s\n",
            "Wall time: 30min 53s\n"
          ]
        }
      ],
      "source": [
        "%%time\n",
        "num_epochs = 8\n",
        "trainloss = []\n",
        "testloss = []\n",
        "trainaccuracy = []\n",
        "testaccuracy = []\n",
        "early_stopping = EarlyStopping(patience=10, verbose=True, delta = 0.001, path =\"CNN_Classifier.pt\")\n",
        "for epoch in range(num_epochs):\n",
        "    model.train()  # Set model to training mode\n",
        "    running_train_loss = 0.0\n",
        "    correct_train = 0\n",
        "    for train_images, train_labels in train_dataloader:\n",
        "        optimizer.zero_grad()  # Zero the parameter gradients\n",
        "        outputs = model(train_images.to(device))  # Forward pass\n",
        "        train_loss = loss_fn(outputs, train_labels.to(device))  # Compute loss\n",
        "        train_loss.backward()  # Backward pass\n",
        "        optimizer.step()  # Optimize\n",
        "        _, train_pred = torch.max(outputs.data,dim=-1)\n",
        "        # test_pred = train_outputs.data.max(1,keepdim=)\n",
        "        correct_train += torch.eq(train_pred.to(device),train_labels.to(device)).sum()\n",
        "\n",
        "        running_train_loss += train_loss.item()\n",
        "        train_accuracy = 100*(correct_train/len(train_dataloader.dataset))\n",
        "\n",
        "    avg_train_loss = running_train_loss / len(train_dataloader)\n",
        "    correct_test = 0\n",
        "    running_test_loss = 0.0\n",
        "    model.eval()  # Set model to evaluation mode\n",
        "    with torch.no_grad():\n",
        "        for test_images, test_labels in test_dataloader:\n",
        "            test_outputs = model(test_images.to(device))\n",
        "            test_loss = loss_fn(test_outputs, test_labels.to(device))\n",
        "            _, test_pred = torch.max(test_outputs.data, 1)\n",
        "            running_test_loss += test_loss.item()\n",
        "            correct_test += torch.eq(test_pred.to(device),test_labels.to(device)).sum()\n",
        "            test_accuracy = 100*(correct_test/len(test_dataloader.dataset))\n",
        "\n",
        "    avg_test_loss = running_test_loss / len(test_dataloader)\n",
        "\n",
        "    trainloss.append(avg_train_loss)\n",
        "    testloss.append(avg_test_loss)\n",
        "    testaccuracy.append(test_accuracy)\n",
        "    trainaccuracy.append(train_accuracy)\n",
        "    print(f'Epoch [{epoch + 1}/{num_epochs}]| Train Loss: {avg_train_loss:.4f}| Train Accuracy: {train_accuracy:.2f}%| Test loss: {avg_test_loss:.4f}| Test Accuracy: {test_accuracy:.2f}%')\n",
        "    early_stopping(avg_test_loss, model)\n",
        "    if early_stopping.early_stop:\n",
        "        print(\"Early stopping\")\n",
        "        break"
      ]
    },
    {
      "cell_type": "code",
      "execution_count": null,
      "id": "cf75dd41",
      "metadata": {
        "id": "cf75dd41"
      },
      "outputs": [],
      "source": [
        "def accuracy_fn(y_true, y_pred):\n",
        "    correct = torch.eq(y_true, y_pred).sum().item()\n",
        "    acc = (correct / len(y_pred)) * 100\n",
        "    return acc"
      ]
    },
    {
      "cell_type": "markdown",
      "id": "8414622e",
      "metadata": {
        "id": "8414622e"
      },
      "source": [
        "# Functionating the Training and Testing loop"
      ]
    },
    {
      "cell_type": "code",
      "execution_count": null,
      "id": "EhpoBB8_mNNz",
      "metadata": {
        "id": "EhpoBB8_mNNz"
      },
      "outputs": [],
      "source": []
    },
    {
      "cell_type": "code",
      "execution_count": null,
      "id": "0e9540aa",
      "metadata": {
        "id": "0e9540aa"
      },
      "outputs": [],
      "source": [
        "# def train(model, data_loader, loss_fn, optimizer, accuracy_fn, epoch, device):\n",
        "#     model.train()\n",
        "#     train_loss, train_acc = 0, 0\n",
        "#     for X, y in data_loader:\n",
        "#         X, y = X.to(device), y.to(device)\n",
        "#         y_pred = model(X)\n",
        "#         loss = loss_fn(y_pred, y)\n",
        "#         train_loss += loss.item()\n",
        "#         train_acc += accuracy_fn(y, y_pred.argmax(dim=1))\n",
        "#         optimizer.zero_grad()\n",
        "#         loss.backward()\n",
        "#         optimizer.step()\n",
        "#     train_loss /= len(data_loader)\n",
        "#     train_acc /= len(data_loader)\n",
        "#     if epoch % 5 == 0:\n",
        "#         print(f\"Epoch {epoch}: Train loss: {train_loss:.5f}, Train accuracy: {train_acc:.2f}%\")\n",
        "\n",
        "\n",
        "# def test(data_loader, model, loss_fn, accuracy_fn, epoch, device):\n",
        "#     model.eval()\n",
        "#     test_loss, test_acc = 0, 0\n",
        "#     with torch.no_grad():\n",
        "#         for X, y in data_loader:\n",
        "#             X, y = X.to(device), y.to(device)\n",
        "#             y_pred = model(X)\n",
        "#             test_loss += loss_fn(y_pred, y).item()\n",
        "#             test_acc += accuracy_fn(y, y_pred.argmax(dim=1))\n",
        "#     test_loss /= len(data_loader)\n",
        "#     test_acc /= len(data_loader)\n",
        "#     if epoch % 5 == 0:\n",
        "#         print(f\"Epoch {epoch}: Test loss: {test_loss:.5f}, Test accuracy: {test_acc:.2f}%\")\n"
      ]
    },
    {
      "cell_type": "code",
      "execution_count": null,
      "id": "8acb6459",
      "metadata": {
        "id": "8acb6459"
      },
      "outputs": [],
      "source": [
        "# def train(model:torch.nn.Module,\n",
        "#           data_loader:torch.utils.data.DataLoader,\n",
        "#           loss_fn:torch.nn.Module,\n",
        "#           optimizer:torch.optim.Optimizer,\n",
        "#           accuracy_fn,\n",
        "#           epoch:int,\n",
        "#           device: torch.device = device):\n",
        "#     train_loss,train_acc = 0,0\n",
        "#     model.to(device)\n",
        "\n",
        "#     for batch, (X,y) in enumerate(data_loader):\n",
        "#         X,y = X.to(device),y.to(device)\n",
        "\n",
        "#         y_pred = model(X)\n",
        "\n",
        "#         loss = loss_fn(y_pred,y)\n",
        "#         train_loss += loss\n",
        "#         train_acc += accuracy_fn(y,y_pred.argmax(dim=1))\n",
        "\n",
        "#         optimizer.zero_grad()\n",
        "#         loss.backward()\n",
        "#         optimizer.step()\n",
        "\n",
        "#     train_loss /= len(data_loader)\n",
        "#     train_acc /= len(data_loader)\n",
        "#     if epoch%5==0:\n",
        "#         print(f\"Train loss: {train_loss:.5f} | Train accuracy: {train_acc:.2f}%\")\n",
        "\n",
        "# def test(data_loader: torch.utils.data.DataLoader,\n",
        "#          model: torch.nn.Module,\n",
        "#          loss_fn: torch.nn.Module,\n",
        "#          accuracy_fn,\n",
        "#          epoch:int,\n",
        "#          device: torch.device = device):\n",
        "#     test_loss, test_acc = 0, 0\n",
        "#     model.to(device)\n",
        "#     model.eval() # put model in eval mode\n",
        "#     # Turn on inference context manager\n",
        "#     with torch.inference_mode():\n",
        "#         for X, y in data_loader:\n",
        "#             X, y = X.to(device), y.to(device)\n",
        "\n",
        "#             test_pred = model(X)\n",
        "\n",
        "#             test_loss += loss_fn(test_pred, y)\n",
        "#             test_acc += accuracy_fn(y_true=y,\n",
        "#                 y_pred=test_pred.argmax(dim=1)\n",
        "#             )\n",
        "#         test_loss /= len(data_loader)\n",
        "#         test_acc /= len(data_loader)\n",
        "#         if epoch%5==0:\n",
        "#             print(f\"Test loss: {test_loss:.5f} | Test accuracy: {test_acc:.2f}%\\n\")"
      ]
    },
    {
      "cell_type": "code",
      "execution_count": null,
      "id": "537ee02f",
      "metadata": {
        "id": "537ee02f"
      },
      "outputs": [],
      "source": [
        "def train(model:torch.nn.Module,\n",
        "          data_loader:torch.utils.data.DataLoader,\n",
        "          loss_fn:torch.nn.Module,\n",
        "          optimizer:torch.optim.Optimizer,\n",
        "          epoch:int,\n",
        "          accuracy_fn,\n",
        "          device:torch.device=device\n",
        "         ):\n",
        "    model.to(device)\n",
        "    model.train() # Setting the model to training mode\n",
        "    train_loss = 0\n",
        "    train_acc = 0\n",
        "    for batch, (X,y) in enumerate(data_loader): # By using this function we are accessing the images and their labels from dataset\n",
        "        X,y=X.to(device),y.to(device)\n",
        "\n",
        "        # Make the forward pass\n",
        "        y_pred = model(X)\n",
        "\n",
        "        # Calculate the loss and accuracy\n",
        "        loss=loss_fn(y_pred,y)\n",
        "        y_pred_class=y_pred.argmax(dim=1)\n",
        "        acc=accuracy_fn(y,y_pred_class)\n",
        "\n",
        "        # Accumulate the loss and accuracy\n",
        "        train_loss+=loss\n",
        "        train_acc+=acc\n",
        "\n",
        "        # Optimizer zero grad\n",
        "        optimizer.zero_grad()\n",
        "\n",
        "        # Loss backward\n",
        "        loss.backward()\n",
        "\n",
        "        #Optimizer step\n",
        "        optimizer.step()\n",
        "\n",
        "    # Calculating the average training loss and accuracy\n",
        "    train_loss /= len(data_loader)\n",
        "    train_acc /= len(data_loader)\n",
        "\n",
        "    if epoch%5==0:\n",
        "        print(f\"Train Loss: {loss:.2f} | Average Train Loss: {train_loss:.2f} | Train Accuracy: {acc:.2f} | Average Train Accuracy: {train_acc:.2f}\")\n"
      ]
    },
    {
      "cell_type": "code",
      "execution_count": null,
      "id": "8192569a",
      "metadata": {
        "id": "8192569a"
      },
      "outputs": [],
      "source": [
        "def test(model:torch.nn.Module,\n",
        "        data_loader:torch.utils.data.DataLoader,\n",
        "        loss_fn:torch.nn.Module,\n",
        "        accuracy_fn,\n",
        "        epoch:int,\n",
        "        device:torch.device=device):\n",
        "    model.to(device)\n",
        "    model.eval() # Setting the model to testing mode\n",
        "\n",
        "    test_loss = 0\n",
        "    test_acc = 0\n",
        "\n",
        "    with torch.inference_mode():\n",
        "        for batch, (X,y) in enumerate(data_loader):\n",
        "            X,y = X.to(device),y.to(device)\n",
        "\n",
        "            # Make the forward Pass\n",
        "            y_pred = model(X)\n",
        "\n",
        "            # Calculate the loss and accuracy\n",
        "            loss = loss_fn(y_pred,y)\n",
        "            y_pred_class = y_pred.argmax(dim=1)\n",
        "            acc = accuracy_fn(y,y_pred_class)\n",
        "\n",
        "            # Accumulate the loss and accuracy\n",
        "            test_loss += loss\n",
        "            test_acc +=acc\n",
        "\n",
        "        # Calculating the average testing loss and accuracy\n",
        "        test_loss /= len(data_loader)\n",
        "        test_acc /= len(data_loader)\n",
        "\n",
        "        if epoch%5==0:\n",
        "            print(f\"Test Loss: {loss:.2f} | Average Test Loss: {test_loss:.2f} | Test Accuracy: {acc:.2f} | Average Test Accuracy: {test_acc:.2f}\")\n"
      ]
    },
    {
      "cell_type": "markdown",
      "id": "b5458174",
      "metadata": {
        "id": "b5458174"
      },
      "source": [
        "# Function for getting training time"
      ]
    },
    {
      "cell_type": "code",
      "execution_count": null,
      "id": "dd6f99aa",
      "metadata": {
        "id": "dd6f99aa"
      },
      "outputs": [],
      "source": [
        "from timeit import default_timer as timer\n",
        "\n",
        "def print_train_time(start: float,end:float,device: torch.device=True):\n",
        "  \"\"\"Prints differecnce between start and end time\"\"\"\n",
        "  total_time = end - start\n",
        "  print(f\"Train time on {device}: {total_time:.3f} seconds\")\n",
        "  return total_time"
      ]
    },
    {
      "cell_type": "markdown",
      "id": "f636d4da",
      "metadata": {
        "id": "f636d4da"
      },
      "source": [
        "# Training"
      ]
    },
    {
      "cell_type": "code",
      "execution_count": null,
      "id": "65e03776",
      "metadata": {
        "id": "65e03776"
      },
      "outputs": [],
      "source": [
        "def loop(train_dataloader,test_dataloader,model,accuracy_fn,loss_fn,optimizer,device):\n",
        "    train_time_start = timer()\n",
        "    epochs = 30\n",
        "    for epoch in tqdm(range(epochs)):\n",
        "        if epoch%5==0:\n",
        "            print(f\"Epoch: {epoch}\\n---------\")\n",
        "\n",
        "        train(data_loader=train_dataloader,\n",
        "             model=model,\n",
        "             loss_fn=loss_fn,\n",
        "             optimizer=optimizer,\n",
        "             accuracy_fn=accuracy_fn,\n",
        "             epoch=epoch,\n",
        "             device=device)\n",
        "\n",
        "        test(data_loader=test_dataloader,\n",
        "            model=model,\n",
        "            loss_fn=loss_fn,\n",
        "            accuracy_fn=accuracy_fn,\n",
        "            epoch=epoch,\n",
        "            device=device)\n",
        "\n",
        "    train_time_end=timer()\n",
        "    print_train_time(train_time_start,train_time_end,device)\n",
        "    return model"
      ]
    },
    {
      "cell_type": "code",
      "execution_count": null,
      "id": "66a39732",
      "metadata": {
        "colab": {
          "referenced_widgets": [
            "d3ba91e8f2cc4e7aa517ddead6a85317"
          ]
        },
        "id": "66a39732",
        "outputId": "fc50ac41-16a5-46d2-8d9e-d904602486ca",
        "scrolled": true
      },
      "outputs": [
        {
          "data": {
            "application/vnd.jupyter.widget-view+json": {
              "model_id": "d3ba91e8f2cc4e7aa517ddead6a85317",
              "version_major": 2,
              "version_minor": 0
            },
            "text/plain": [
              "  0%|          | 0/30 [00:00<?, ?it/s]"
            ]
          },
          "metadata": {},
          "output_type": "display_data"
        },
        {
          "name": "stdout",
          "output_type": "stream",
          "text": [
            "Epoch: 0\n",
            "---------\n",
            "Train Loss: 2.31 | Average Train Loss: 1.80 | Train Accuracy: 11.11 | Average Train Accuracy: 25.48\n",
            "Test Loss: 2.20 | Average Test Loss: 1.81 | Test Accuracy: 0.00 | Average Test Accuracy: 25.81\n",
            "Epoch: 5\n",
            "---------\n",
            "Train Loss: 1.79 | Average Train Loss: 1.80 | Train Accuracy: 22.22 | Average Train Accuracy: 25.49\n",
            "Test Loss: 2.26 | Average Test Loss: 1.81 | Test Accuracy: 0.00 | Average Test Accuracy: 25.81\n",
            "Epoch: 10\n",
            "---------\n",
            "Train Loss: 1.82 | Average Train Loss: 1.80 | Train Accuracy: 22.22 | Average Train Accuracy: 25.49\n",
            "Test Loss: 2.22 | Average Test Loss: 1.81 | Test Accuracy: 0.00 | Average Test Accuracy: 25.81\n",
            "Epoch: 15\n",
            "---------\n",
            "Train Loss: 1.63 | Average Train Loss: 1.80 | Train Accuracy: 33.33 | Average Train Accuracy: 25.50\n",
            "Test Loss: 2.31 | Average Test Loss: 1.81 | Test Accuracy: 0.00 | Average Test Accuracy: 25.81\n",
            "Epoch: 20\n",
            "---------\n",
            "Train Loss: 1.80 | Average Train Loss: 1.80 | Train Accuracy: 22.22 | Average Train Accuracy: 25.49\n",
            "Test Loss: 2.22 | Average Test Loss: 1.81 | Test Accuracy: 0.00 | Average Test Accuracy: 25.81\n",
            "Epoch: 25\n",
            "---------\n",
            "Train Loss: 1.79 | Average Train Loss: 1.80 | Train Accuracy: 33.33 | Average Train Accuracy: 25.50\n",
            "Test Loss: 2.28 | Average Test Loss: 1.81 | Test Accuracy: 0.00 | Average Test Accuracy: 25.81\n",
            "Train time on cuda: 1089.145 seconds\n"
          ]
        }
      ],
      "source": [
        "mood_detector = loop(train_dataloader=train_dataloader,\n",
        "                    test_dataloader=test_dataloader,\n",
        "                    model=model,\n",
        "                    loss_fn=loss_fn,\n",
        "                    accuracy_fn=accuracy_fn,\n",
        "                    optimizer=optimizer,\n",
        "                    device=device)"
      ]
    },
    {
      "cell_type": "code",
      "execution_count": null,
      "id": "671bc3f0",
      "metadata": {
        "id": "671bc3f0"
      },
      "outputs": [],
      "source": [
        "MODEL_PATH = Path(\".\\\\\")\n",
        "MODEL_PATH.mkdir(parents=True,exist_ok=True)\n",
        "MODEL_NAME = 'mood_detector.pth'\n",
        "MODEL_SAVE_PATH = MODEL_PATH/MODEL_NAME\n",
        "print(f\"Saving model to:- {MODEL_SAVE_PATH}\")\n",
        "torch.save(mood_detector,MODEL_SAVE_PATH)"
      ]
    }
  ],
  "metadata": {
    "accelerator": "GPU",
    "colab": {
      "gpuType": "T4",
      "provenance": []
    },
    "kernelspec": {
      "display_name": "Python 3",
      "name": "python3"
    },
    "language_info": {
      "codemirror_mode": {
        "name": "ipython",
        "version": 3
      },
      "file_extension": ".py",
      "mimetype": "text/x-python",
      "name": "python",
      "nbconvert_exporter": "python",
      "pygments_lexer": "ipython3",
      "version": "3.11.4"
    }
  },
  "nbformat": 4,
  "nbformat_minor": 5
}
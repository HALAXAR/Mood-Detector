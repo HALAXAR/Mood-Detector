{
 "cells": [
  {
   "cell_type": "markdown",
   "id": "cf0a47a8",
   "metadata": {},
   "source": [
    "# Importing Necessary Libraries"
   ]
  },
  {
   "cell_type": "code",
   "execution_count": 91,
   "id": "36a44bff",
   "metadata": {},
   "outputs": [],
   "source": [
    "import numpy as np\n",
    "import matplotlib.pyplot as plt\n",
    "\n",
    "import torch\n",
    "from torch import nn\n",
    "from torchvision import datasets,transforms\n",
    "from torch.utils.data import DataLoader\n",
    "\n",
    "from timeit import default_timer as timer\n",
    "from pathlib import Path\n",
    "import opendatasets as od\n",
    "from tqdm.auto import tqdm"
   ]
  },
  {
   "cell_type": "markdown",
   "id": "4aff1d93",
   "metadata": {},
   "source": [
    "# Setup device agnostic code"
   ]
  },
  {
   "cell_type": "code",
   "execution_count": 11,
   "id": "52c3ee02",
   "metadata": {},
   "outputs": [
    {
     "data": {
      "text/plain": [
       "'cuda'"
      ]
     },
     "execution_count": 11,
     "metadata": {},
     "output_type": "execute_result"
    }
   ],
   "source": [
    "device = 'cuda' if torch.cuda.is_available() else 'cpu'\n",
    "device"
   ]
  },
  {
   "cell_type": "markdown",
   "id": "4448a8d3",
   "metadata": {},
   "source": [
    "# Getting the dataset"
   ]
  },
  {
   "cell_type": "code",
   "execution_count": 16,
   "id": "9db638a0",
   "metadata": {},
   "outputs": [
    {
     "name": "stdout",
     "output_type": "stream",
     "text": [
      "The dataset already exists. Skipping download....\n"
     ]
    }
   ],
   "source": [
    "if Path(\".\\\\mood-image-dataset\").is_dir():\n",
    "    print(\"The dataset already exists. Skipping download....\")\n",
    "else:\n",
    "    print(\"Downloading the dataset\")\n",
    "    od.download(\"https://www.kaggle.com/datasets/lavishalakhmani/mood-image-dataset?select=images\")"
   ]
  },
  {
   "cell_type": "code",
   "execution_count": 17,
   "id": "cc3be682",
   "metadata": {},
   "outputs": [],
   "source": [
    "train_dir = Path(\".\\\\mood-image-dataset\\\\images\\\\train\")\n",
    "test_dir = Path(\".\\\\mood-image-dataset\\\\images\\\\validation\")"
   ]
  },
  {
   "cell_type": "markdown",
   "id": "c8bdca02",
   "metadata": {},
   "source": [
    "# Preprocessing the dataset"
   ]
  },
  {
   "cell_type": "code",
   "execution_count": 18,
   "id": "b72473c5",
   "metadata": {},
   "outputs": [],
   "source": [
    "transform = transforms.Compose([\n",
    "#     transforms.Resize((64,64)),\n",
    "    transforms.RandomHorizontalFlip(),\n",
    "    transforms.RandomRotation(degrees=15),\n",
    "    transforms.ToTensor(),\n",
    "])"
   ]
  },
  {
   "cell_type": "code",
   "execution_count": 19,
   "id": "ab740ae3",
   "metadata": {},
   "outputs": [
    {
     "name": "stdout",
     "output_type": "stream",
     "text": [
      "Length of train dataset = 26921\n",
      "Length of test dataset = 7066\n",
      "Shape of image: torch.Size([3, 48, 48])\n"
     ]
    }
   ],
   "source": [
    "train_data = datasets.ImageFolder(train_dir,transform)\n",
    "test_data = datasets.ImageFolder(test_dir,transform)\n",
    "print(f\"Length of train dataset = {len(train_data)}\")\n",
    "print(f\"Length of test dataset = {len(test_data)}\")\n",
    "img,label=train_data[0]\n",
    "print(f\"Shape of image: {img.shape}\")"
   ]
  },
  {
   "cell_type": "code",
   "execution_count": 29,
   "id": "383ba98c",
   "metadata": {},
   "outputs": [
    {
     "data": {
      "text/plain": [
       "['angry', 'disgust', 'fear', 'happy', 'neutral', 'sad', 'surprise']"
      ]
     },
     "execution_count": 29,
     "metadata": {},
     "output_type": "execute_result"
    }
   ],
   "source": [
    "class_labels = train_data.classes\n",
    "class_labels"
   ]
  },
  {
   "cell_type": "markdown",
   "id": "8f11478a",
   "metadata": {},
   "source": [
    "# Preparing Dataloaders"
   ]
  },
  {
   "cell_type": "code",
   "execution_count": 21,
   "id": "2fe5d499",
   "metadata": {},
   "outputs": [
    {
     "data": {
      "text/plain": [
       "(<torch.utils.data.dataloader.DataLoader at 0x1e612db80d0>,\n",
       " <torch.utils.data.dataloader.DataLoader at 0x1e612fc0450>)"
      ]
     },
     "execution_count": 21,
     "metadata": {},
     "output_type": "execute_result"
    }
   ],
   "source": [
    "BATCH_SIZE = 32\n",
    "\n",
    "train_dataloader=DataLoader(dataset=train_data,\n",
    "                           batch_size=BATCH_SIZE,\n",
    "                           shuffle=True)\n",
    "\n",
    "test_dataloader = DataLoader(dataset=test_data,\n",
    "                            batch_size=BATCH_SIZE,\n",
    "                            shuffle=False)\n",
    "train_dataloader,test_dataloader"
   ]
  },
  {
   "cell_type": "code",
   "execution_count": 23,
   "id": "a906d727",
   "metadata": {},
   "outputs": [
    {
     "name": "stdout",
     "output_type": "stream",
     "text": [
      "Length of training dataloader: 842 batches of 32\n",
      "Length of testing dataloader: 221 batches of 32\n"
     ]
    }
   ],
   "source": [
    "print(f\"Length of training dataloader: {len(train_dataloader)} batches of {BATCH_SIZE}\")\n",
    "print(f\"Length of testing dataloader: {len(test_dataloader)} batches of {BATCH_SIZE}\")"
   ]
  },
  {
   "cell_type": "markdown",
   "id": "c530fb20",
   "metadata": {},
   "source": [
    "# Visulalizing Images from the dataset"
   ]
  },
  {
   "cell_type": "code",
   "execution_count": 24,
   "id": "4d69048f",
   "metadata": {},
   "outputs": [
    {
     "name": "stdout",
     "output_type": "stream",
     "text": [
      "torch.Size([32, 3, 48, 48])\n",
      "torch.Size([32])\n"
     ]
    }
   ],
   "source": [
    "example_img,example_label=next(iter(train_dataloader))\n",
    "print(example_img.shape)\n",
    "print(example_label.shape)"
   ]
  },
  {
   "cell_type": "code",
   "execution_count": 72,
   "id": "2a4f74fa",
   "metadata": {},
   "outputs": [
    {
     "data": {
      "image/png": "[encoded data removed]",
      "text/plain": [
       "<Figure size 640x480 with 1 Axes>"
      ]
     },
     "metadata": {},
     "output_type": "display_data"
    }
   ],
   "source": [
    "random_idx = torch.randint(0,len(example_label),size=[1]).item()\n",
    "img,label=example_img[random_idx],example_label[random_idx]\n",
    "# img=img.permute(1,2,0)\n",
    "plt.imshow(img.permute(1,2,0))\n",
    "plt.title(class_labels[label])\n",
    "plt.axis(False)\n",
    "plt.show()"
   ]
  },
  {
   "cell_type": "markdown",
   "id": "91213161",
   "metadata": {},
   "source": [
    "# Building the Model"
   ]
  },
  {
   "cell_type": "code",
   "execution_count": 135,
   "id": "b47913ce",
   "metadata": {},
   "outputs": [
    {
     "data": {
      "text/plain": [
       "MoodDetector(\n",
       "  (block1): Sequential(\n",
       "    (0): Conv2d(3, 10, kernel_size=(3, 3), stride=(1, 1), padding=(1, 1))\n",
       "    (1): ReLU()\n",
       "    (2): Conv2d(10, 10, kernel_size=(3, 3), stride=(1, 1), padding=(1, 1))\n",
       "    (3): ReLU()\n",
       "    (4): MaxPool2d(kernel_size=2, stride=2, padding=0, dilation=1, ceil_mode=False)\n",
       "  )\n",
       "  (block2): Sequential(\n",
       "    (0): Conv2d(10, 10, kernel_size=(3, 3), stride=(1, 1), padding=(1, 1))\n",
       "    (1): ReLU()\n",
       "    (2): Conv2d(10, 10, kernel_size=(3, 3), stride=(1, 1), padding=(1, 1))\n",
       "    (3): ReLU()\n",
       "    (4): MaxPool2d(kernel_size=2, stride=2, padding=0, dilation=1, ceil_mode=False)\n",
       "  )\n",
       "  (classifier): Sequential(\n",
       "    (0): Flatten(start_dim=1, end_dim=-1)\n",
       "    (1): Linear(in_features=1440, out_features=7, bias=True)\n",
       "  )\n",
       ")"
      ]
     },
     "execution_count": 135,
     "metadata": {},
     "output_type": "execute_result"
    }
   ],
   "source": [
    "class MoodDetector(nn.Module):\n",
    "    def __init__(self,input_shape:int,hidden_units:int,output_shape:int):\n",
    "        super().__init__()\n",
    "        self.block1=nn.Sequential(\n",
    "            nn.Conv2d(in_channels=input_shape,out_channels=hidden_units,kernel_size=3,stride=1,padding=1),\n",
    "            nn.ReLU(),\n",
    "            nn.Conv2d(in_channels=hidden_units,out_channels=hidden_units,kernel_size=3,stride=1,padding=1),\n",
    "            nn.ReLU(),\n",
    "            nn.MaxPool2d(kernel_size=2,stride=2)\n",
    "        )\n",
    "        \n",
    "        self.block2=nn.Sequential(\n",
    "            nn.Conv2d(in_channels=hidden_units,out_channels=hidden_units,kernel_size=3,stride=1,padding=1),\n",
    "            nn.ReLU(),\n",
    "            nn.Conv2d(in_channels=hidden_units,out_channels=hidden_units,kernel_size=3,stride=1,padding=1),\n",
    "            nn.ReLU(),\n",
    "            nn.MaxPool2d(kernel_size=2,stride=2)\n",
    "        )\n",
    "        \n",
    "        self.classifier=nn.Sequential(\n",
    "            nn.Flatten(),\n",
    "            nn.Linear(in_features=hidden_units*12*12,out_features=output_shape)\n",
    "        )\n",
    "        \n",
    "    def forward(self,x:torch.tensor):\n",
    "#         print(x.shape)\n",
    "        x = self.block1(x)\n",
    "#         print(x.shape)\n",
    "        x = self.block2(x)\n",
    "#         print(x.shape)\n",
    "        x = self.classifier(x)\n",
    "#         print(x.shape)\n",
    "        return x\n",
    "\n",
    "model = MoodDetector(input_shape=3,hidden_units=10,output_shape=len(class_labels)).to(device)\n",
    "model"
   ]
  },
  {
   "cell_type": "markdown",
   "id": "aa1f987b",
   "metadata": {},
   "source": [
    "# Setting up loss Function and Optimizer"
   ]
  },
  {
   "cell_type": "code",
   "execution_count": 136,
   "id": "bc2458d0",
   "metadata": {},
   "outputs": [],
   "source": [
    "loss_fn = nn.CrossEntropyLoss()\n",
    "optimizer = torch.optim.Adam(params=model.parameters(),lr=0.01)"
   ]
  },
  {
   "cell_type": "code",
   "execution_count": 137,
   "id": "cf75dd41",
   "metadata": {},
   "outputs": [],
   "source": [
    "def accuracy_fn(y_true, y_pred):\n",
    "    correct = torch.eq(y_true, y_pred).sum().item()\n",
    "    acc = (correct / len(y_pred)) * 100\n",
    "    return acc"
   ]
  },
  {
   "cell_type": "markdown",
   "id": "8414622e",
   "metadata": {},
   "source": [
    "# Functionating the Training and Testing loop"
   ]
  },
  {
   "cell_type": "code",
   "execution_count": 161,
   "id": "0e9540aa",
   "metadata": {},
   "outputs": [],
   "source": [
    "# def train(model, data_loader, loss_fn, optimizer, accuracy_fn, epoch, device):\n",
    "#     model.train()\n",
    "#     train_loss, train_acc = 0, 0\n",
    "#     for X, y in data_loader:\n",
    "#         X, y = X.to(device), y.to(device)\n",
    "#         y_pred = model(X)\n",
    "#         loss = loss_fn(y_pred, y)\n",
    "#         train_loss += loss.item()\n",
    "#         train_acc += accuracy_fn(y, y_pred.argmax(dim=1))\n",
    "#         optimizer.zero_grad()\n",
    "#         loss.backward()\n",
    "#         optimizer.step()\n",
    "#     train_loss /= len(data_loader)\n",
    "#     train_acc /= len(data_loader)\n",
    "#     if epoch % 5 == 0:\n",
    "#         print(f\"Epoch {epoch}: Train loss: {train_loss:.5f}, Train accuracy: {train_acc:.2f}%\")\n",
    "        \n",
    "        \n",
    "# def test(data_loader, model, loss_fn, accuracy_fn, epoch, device):\n",
    "#     model.eval()\n",
    "#     test_loss, test_acc = 0, 0\n",
    "#     with torch.no_grad():\n",
    "#         for X, y in data_loader:\n",
    "#             X, y = X.to(device), y.to(device)\n",
    "#             y_pred = model(X)\n",
    "#             test_loss += loss_fn(y_pred, y).item()\n",
    "#             test_acc += accuracy_fn(y, y_pred.argmax(dim=1))\n",
    "#     test_loss /= len(data_loader)\n",
    "#     test_acc /= len(data_loader)\n",
    "#     if epoch % 5 == 0:\n",
    "#         print(f\"Epoch {epoch}: Test loss: {test_loss:.5f}, Test accuracy: {test_acc:.2f}%\")\n"
   ]
  },
  {
   "cell_type": "code",
   "execution_count": 162,
   "id": "8acb6459",
   "metadata": {},
   "outputs": [],
   "source": [
    "# def train(model:torch.nn.Module,\n",
    "#           data_loader:torch.utils.data.DataLoader,\n",
    "#           loss_fn:torch.nn.Module,\n",
    "#           optimizer:torch.optim.Optimizer,\n",
    "#           accuracy_fn,\n",
    "#           epoch:int,\n",
    "#           device: torch.device = device):\n",
    "#     train_loss,train_acc = 0,0\n",
    "#     model.to(device)\n",
    "    \n",
    "#     for batch, (X,y) in enumerate(data_loader):\n",
    "#         X,y = X.to(device),y.to(device)\n",
    "        \n",
    "#         y_pred = model(X)\n",
    "        \n",
    "#         loss = loss_fn(y_pred,y)\n",
    "#         train_loss += loss\n",
    "#         train_acc += accuracy_fn(y,y_pred.argmax(dim=1))\n",
    "        \n",
    "#         optimizer.zero_grad()\n",
    "#         loss.backward()\n",
    "#         optimizer.step()\n",
    "    \n",
    "#     train_loss /= len(data_loader)\n",
    "#     train_acc /= len(data_loader)\n",
    "#     if epoch%5==0:\n",
    "#         print(f\"Train loss: {train_loss:.5f} | Train accuracy: {train_acc:.2f}%\")\n",
    "            \n",
    "# def test(data_loader: torch.utils.data.DataLoader,\n",
    "#          model: torch.nn.Module,\n",
    "#          loss_fn: torch.nn.Module,\n",
    "#          accuracy_fn,\n",
    "#          epoch:int,\n",
    "#          device: torch.device = device):\n",
    "#     test_loss, test_acc = 0, 0\n",
    "#     model.to(device)\n",
    "#     model.eval() # put model in eval mode\n",
    "#     # Turn on inference context manager\n",
    "#     with torch.inference_mode():\n",
    "#         for X, y in data_loader:\n",
    "#             X, y = X.to(device), y.to(device)\n",
    "\n",
    "#             test_pred = model(X)\n",
    "\n",
    "#             test_loss += loss_fn(test_pred, y)\n",
    "#             test_acc += accuracy_fn(y_true=y,\n",
    "#                 y_pred=test_pred.argmax(dim=1)\n",
    "#             )\n",
    "#         test_loss /= len(data_loader)\n",
    "#         test_acc /= len(data_loader)\n",
    "#         if epoch%5==0:\n",
    "#             print(f\"Test loss: {test_loss:.5f} | Test accuracy: {test_acc:.2f}%\\n\")"
   ]
  },
  {
   "cell_type": "code",
   "execution_count": 173,
   "id": "537ee02f",
   "metadata": {},
   "outputs": [],
   "source": [
    "def train(model:torch.nn.Module,\n",
    "          data_loader:torch.utils.data.DataLoader,\n",
    "          loss_fn:torch.nn.Module,\n",
    "          optimizer:torch.optim.Optimizer,\n",
    "          epoch:int,\n",
    "          accuracy_fn,\n",
    "          device:torch.device=device\n",
    "         ):\n",
    "    model.to(device)\n",
    "    model.train() # Setting the model to training mode\n",
    "    train_loss = 0\n",
    "    train_acc = 0\n",
    "    for batch, (X,y) in enumerate(data_loader): # By using this function we are accessing the images and their labels from dataset\n",
    "        X,y=X.to(device),y.to(device)\n",
    "        \n",
    "        # Make the forward pass\n",
    "        y_pred = model(X)\n",
    "        \n",
    "        # Calculate the loss and accuracy\n",
    "        loss=loss_fn(y_pred,y)\n",
    "        y_pred_class=y_pred.argmax(dim=1)\n",
    "        acc=accuracy_fn(y,y_pred_class)\n",
    "        \n",
    "        # Accumulate the loss and accuracy\n",
    "        train_loss+=loss\n",
    "        train_acc+=acc\n",
    "        \n",
    "        # Optimizer zero grad\n",
    "        optimizer.zero_grad()\n",
    "        \n",
    "        # Loss backward\n",
    "        loss.backward()\n",
    "        \n",
    "        #Optimizer step \n",
    "        optimizer.step()\n",
    "    \n",
    "    # Calculating the average training loss and accuracy\n",
    "    train_loss /= len(data_loader)\n",
    "    train_acc /= len(data_loader)\n",
    "    \n",
    "    if epoch%5==0:\n",
    "        print(f\"Train Loss: {loss:.2f} | Average Train Loss: {train_loss:.2f} | Train Accuracy: {acc:.2f} | Average Train Accuracy: {train_acc:.2f}\")\n",
    "        "
   ]
  },
  {
   "cell_type": "code",
   "execution_count": 174,
   "id": "8192569a",
   "metadata": {},
   "outputs": [],
   "source": [
    "def test(model:torch.nn.Module,\n",
    "        data_loader:torch.utils.data.DataLoader,\n",
    "        loss_fn:torch.nn.Module,\n",
    "        accuracy_fn,\n",
    "        epoch:int,\n",
    "        device:torch.device=device):\n",
    "    model.to(device)\n",
    "    model.eval() # Setting the model to testing mode\n",
    "    \n",
    "    test_loss = 0\n",
    "    test_acc = 0\n",
    "    \n",
    "    with torch.inference_mode():\n",
    "        for batch, (X,y) in enumerate(data_loader):\n",
    "            X,y = X.to(device),y.to(device)\n",
    "            \n",
    "            # Make the forward Pass\n",
    "            y_pred = model(X)\n",
    "            \n",
    "            # Calculate the loss and accuracy \n",
    "            loss = loss_fn(y_pred,y)\n",
    "            y_pred_class = y_pred.argmax(dim=1)\n",
    "            acc = accuracy_fn(y,y_pred_class)\n",
    "            \n",
    "            # Accumulate the loss and accuracy\n",
    "            test_loss += loss\n",
    "            test_acc +=acc\n",
    "        \n",
    "        # Calculating the average testing loss and accuracy\n",
    "        test_loss /= len(data_loader)\n",
    "        test_acc /= len(data_loader)\n",
    "        \n",
    "        if epoch%5==0:\n",
    "            print(f\"Test Loss: {loss:.2f} | Average Test Loss: {test_loss:.2f} | Test Accuracy: {acc:.2f} | Average Test Accuracy: {test_acc:.2f}\")\n",
    "        "
   ]
  },
  {
   "cell_type": "markdown",
   "id": "b5458174",
   "metadata": {},
   "source": [
    "# Function for getting training time"
   ]
  },
  {
   "cell_type": "code",
   "execution_count": 175,
   "id": "dd6f99aa",
   "metadata": {},
   "outputs": [],
   "source": [
    "from timeit import default_timer as timer\n",
    "\n",
    "def print_train_time(start: float,end:float,device: torch.device=True):\n",
    "  \"\"\"Prints differecnce between start and end time\"\"\"\n",
    "  total_time = end - start\n",
    "  print(f\"Train time on {device}: {total_time:.3f} seconds\")\n",
    "  return total_time"
   ]
  },
  {
   "cell_type": "markdown",
   "id": "f636d4da",
   "metadata": {},
   "source": [
    "# Training "
   ]
  },
  {
   "cell_type": "code",
   "execution_count": 176,
   "id": "65e03776",
   "metadata": {},
   "outputs": [],
   "source": [
    "def loop(train_dataloader,test_dataloader,model,accuracy_fn,loss_fn,optimizer,device):\n",
    "    train_time_start = timer()\n",
    "    epochs = 30\n",
    "    for epoch in tqdm(range(epochs)):\n",
    "        if epoch%5==0:\n",
    "            print(f\"Epoch: {epoch}\\n---------\")\n",
    "\n",
    "        train(data_loader=train_dataloader,\n",
    "             model=model,\n",
    "             loss_fn=loss_fn,\n",
    "             optimizer=optimizer,\n",
    "             accuracy_fn=accuracy_fn,\n",
    "             epoch=epoch,\n",
    "             device=device)\n",
    "\n",
    "        test(data_loader=test_dataloader,\n",
    "            model=model,\n",
    "            loss_fn=loss_fn,\n",
    "            accuracy_fn=accuracy_fn,\n",
    "            epoch=epoch,\n",
    "            device=device)\n",
    "\n",
    "    train_time_end=timer()\n",
    "    print_train_time(train_time_start,train_time_end,device)\n",
    "    return model"
   ]
  },
  {
   "cell_type": "code",
   "execution_count": 177,
   "id": "66a39732",
   "metadata": {
    "scrolled": true
   },
   "outputs": [
    {
     "data": {
      "application/vnd.jupyter.widget-view+json": {
       "model_id": "d3ba91e8f2cc4e7aa517ddead6a85317",
       "version_major": 2,
       "version_minor": 0
      },
      "text/plain": [
       "  0%|          | 0/30 [00:00<?, ?it/s]"
      ]
     },
     "metadata": {},
     "output_type": "display_data"
    },
    {
     "name": "stdout",
     "output_type": "stream",
     "text": [
      "Epoch: 0\n",
      "---------\n",
      "Train Loss: 2.31 | Average Train Loss: 1.80 | Train Accuracy: 11.11 | Average Train Accuracy: 25.48\n",
      "Test Loss: 2.20 | Average Test Loss: 1.81 | Test Accuracy: 0.00 | Average Test Accuracy: 25.81\n",
      "Epoch: 5\n",
      "---------\n",
      "Train Loss: 1.79 | Average Train Loss: 1.80 | Train Accuracy: 22.22 | Average Train Accuracy: 25.49\n",
      "Test Loss: 2.26 | Average Test Loss: 1.81 | Test Accuracy: 0.00 | Average Test Accuracy: 25.81\n",
      "Epoch: 10\n",
      "---------\n",
      "Train Loss: 1.82 | Average Train Loss: 1.80 | Train Accuracy: 22.22 | Average Train Accuracy: 25.49\n",
      "Test Loss: 2.22 | Average Test Loss: 1.81 | Test Accuracy: 0.00 | Average Test Accuracy: 25.81\n",
      "Epoch: 15\n",
      "---------\n",
      "Train Loss: 1.63 | Average Train Loss: 1.80 | Train Accuracy: 33.33 | Average Train Accuracy: 25.50\n",
      "Test Loss: 2.31 | Average Test Loss: 1.81 | Test Accuracy: 0.00 | Average Test Accuracy: 25.81\n",
      "Epoch: 20\n",
      "---------\n",
      "Train Loss: 1.80 | Average Train Loss: 1.80 | Train Accuracy: 22.22 | Average Train Accuracy: 25.49\n",
      "Test Loss: 2.22 | Average Test Loss: 1.81 | Test Accuracy: 0.00 | Average Test Accuracy: 25.81\n",
      "Epoch: 25\n",
      "---------\n",
      "Train Loss: 1.79 | Average Train Loss: 1.80 | Train Accuracy: 33.33 | Average Train Accuracy: 25.50\n",
      "Test Loss: 2.28 | Average Test Loss: 1.81 | Test Accuracy: 0.00 | Average Test Accuracy: 25.81\n",
      "Train time on cuda: 1089.145 seconds\n"
     ]
    }
   ],
   "source": [
    "mood_detector = loop(train_dataloader=train_dataloader,\n",
    "                    test_dataloader=test_dataloader,\n",
    "                    model=model,\n",
    "                    loss_fn=loss_fn,\n",
    "                    accuracy_fn=accuracy_fn,\n",
    "                    optimizer=optimizer,\n",
    "                    device=device)"
   ]
  },
  {
   "cell_type": "code",
   "execution_count": null,
   "id": "671bc3f0",
   "metadata": {},
   "outputs": [],
   "source": [
    "MODEL_PATH = Path(\".\\\\\")\n",
    "MODEL_PATH.mkdir(parents=True,exist_ok=True)\n",
    "MODEL_NAME = 'mood_detector.pth'\n",
    "MODEL_SAVE_PATH = MODEL_PATH/MODEL_NAME\n",
    "print(f\"Saving model to:- {MODEL_SAVE_PATH}\")\n",
    "torch.save(mood_detector,MODEL_SAVE_PATH)"
   ]
  }
 ],
 "metadata": {
  "kernelspec": {
   "display_name": "Python 3 (ipykernel)",
   "language": "python",
   "name": "python3"
  },
  "language_info": {
   "codemirror_mode": {
    "name": "ipython",
    "version": 3
   },
   "file_extension": ".py",
   "mimetype": "text/x-python",
   "name": "python",
   "nbconvert_exporter": "python",
   "pygments_lexer": "ipython3",
   "version": "3.11.4"
  }
 },
 "nbformat": 4,
 "nbformat_minor": 5
}
